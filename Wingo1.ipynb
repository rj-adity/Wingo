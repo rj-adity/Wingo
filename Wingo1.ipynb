{
  "nbformat": 4,
  "nbformat_minor": 0,
  "metadata": {
    "colab": {
      "provenance": [],
      "toc_visible": true,
      "authorship_tag": "ABX9TyM0y1RX8fTn3Y3+wQYCpJs6",
      "include_colab_link": true
    },
    "kernelspec": {
      "name": "python3",
      "display_name": "Python 3"
    },
    "language_info": {
      "name": "python"
    }
  },
  "cells": [
    {
      "cell_type": "markdown",
      "metadata": {
        "id": "view-in-github",
        "colab_type": "text"
      },
      "source": [
        "<a href=\"https://colab.research.google.com/github/rj-adity/Wingo/blob/main/Wingo1.ipynb\" target=\"_parent\"><img src=\"https://colab.research.google.com/assets/colab-badge.svg\" alt=\"Open In Colab\"/></a>"
      ]
    },
    {
      "cell_type": "code",
      "execution_count": 105,
      "metadata": {
        "colab": {
          "base_uri": "https://localhost:8080/"
        },
        "id": "ClYuwxoDjaN1",
        "outputId": "8b9ef776-3a00-499d-a8aa-c84b039797d6"
      },
      "outputs": [
        {
          "output_type": "stream",
          "name": "stdout",
          "text": [
            "          id         period  amount     game  status           time\n",
            "0       1520  2022070110000       6  wingo10       1  1661533423187\n",
            "1       1521  2022070110001       5  wingo10       1  1661533423187\n",
            "2       1522  2022070110000       6   wingo5       1  1661533423187\n",
            "3       1523  2022070110001       4   wingo5       1  1661533423187\n",
            "4       1524  2022070110000       6   wingo3       1  1661533423187\n",
            "...      ...            ...     ...      ...     ...            ...\n",
            "13580  15100  2022070112771       0   wingo3       0  1665538200598\n",
            "13581  15101  2022070118319       8    wingo       1  1665538200598\n",
            "13582  15102  2022070111659       0   wingo5       0  1665538200602\n",
            "13583  15103  2022070110831       0  wingo10       0  1665538200601\n",
            "13584  15104  2022070118320       0    wingo       0  1665538260666\n",
            "\n",
            "[13585 rows x 6 columns]\n"
          ]
        }
      ],
      "source": [
        "import pandas as pd\n",
        "\n",
        "# Provide the raw URL of the CSV file hosted on GitHub\n",
        "url = 'https://raw.githubusercontent.com/rj-adity/Wingo/main/wingo.csv'\n",
        "\n",
        "# Read the CSV file into a DataFrame\n",
        "df = pd.read_csv(url)\n",
        "\n",
        "# Display the DataFrame\n",
        "print(df)"
      ]
    },
    {
      "cell_type": "markdown",
      "source": [
        "# **Preprocessing the data!!**\n"
      ],
      "metadata": {
        "id": "s5LiNOVAlk7p"
      }
    },
    {
      "cell_type": "code",
      "source": [
        "#display the first few rows of the dataset\n",
        "print(df.head())\n",
        "\n",
        "#Checking the data types of each column\n",
        "print(df.dtypes)\n",
        "\n",
        "#Get information about the dataset\n",
        "print(df.info())\n",
        "\n",
        "# Summary statistics of numerical columns\n",
        "print(df.describe())\n",
        "\n",
        "# Convert 'time' column to datetime format\n",
        "df['time'] = pd.to_datetime(df['time'], unit='ms')\n",
        "\n",
        "# Extract features from 'time' column\n",
        "df['hour'] = df['time'].dt.hour\n",
        "df['minute'] = df['time'].dt.minute\n",
        "df['second'] = df['time'].dt.second\n",
        "\n",
        "# Drop the original 'time' column\n",
        "df.drop(columns=['time'], inplace=True)\n"
      ],
      "metadata": {
        "colab": {
          "base_uri": "https://localhost:8080/"
        },
        "id": "q2m7dDiXlixq",
        "outputId": "c7fb3222-ca27-4e30-831b-52cf059d860a"
      },
      "execution_count": 106,
      "outputs": [
        {
          "output_type": "stream",
          "name": "stdout",
          "text": [
            "     id         period  amount     game  status           time\n",
            "0  1520  2022070110000       6  wingo10       1  1661533423187\n",
            "1  1521  2022070110001       5  wingo10       1  1661533423187\n",
            "2  1522  2022070110000       6   wingo5       1  1661533423187\n",
            "3  1523  2022070110001       4   wingo5       1  1661533423187\n",
            "4  1524  2022070110000       6   wingo3       1  1661533423187\n",
            "id         int64\n",
            "period     int64\n",
            "amount     int64\n",
            "game      object\n",
            "status     int64\n",
            "time       int64\n",
            "dtype: object\n",
            "<class 'pandas.core.frame.DataFrame'>\n",
            "RangeIndex: 13585 entries, 0 to 13584\n",
            "Data columns (total 6 columns):\n",
            " #   Column  Non-Null Count  Dtype \n",
            "---  ------  --------------  ----- \n",
            " 0   id      13585 non-null  int64 \n",
            " 1   period  13585 non-null  int64 \n",
            " 2   amount  13585 non-null  int64 \n",
            " 3   game    13585 non-null  object\n",
            " 4   status  13585 non-null  int64 \n",
            " 5   time    13585 non-null  int64 \n",
            "dtypes: int64(5), object(1)\n",
            "memory usage: 636.9+ KB\n",
            "None\n",
            "                 id        period        amount        status          time\n",
            "count  13585.000000  1.358500e+04  13585.000000  13585.000000  1.358500e+04\n",
            "mean    8312.000000  2.022070e+12      4.509017      0.999706  1.665286e+12\n",
            "std     3921.796038  2.456802e+03      2.852209      0.017157  1.765859e+08\n",
            "min     1520.000000  2.022070e+12      0.000000      0.000000  1.661533e+12\n",
            "25%     4916.000000  2.022070e+12      2.000000      1.000000  1.665163e+12\n",
            "50%     8312.000000  2.022070e+12      5.000000      1.000000  1.665288e+12\n",
            "75%    11708.000000  2.022070e+12      7.000000      1.000000  1.665413e+12\n",
            "max    15104.000000  2.022070e+12      9.000000      1.000000  1.665538e+12\n"
          ]
        }
      ]
    },
    {
      "cell_type": "code",
      "source": [
        "from sklearn.model_selection import train_test_split\n",
        "from sklearn.ensemble import RandomForestClassifier\n",
        "from sklearn.metrics import accuracy_score\n",
        "# Define features (X) and target variable (y)\n",
        "X = df.drop(['period'], axis=1)  # Drop 'period' since it's not needed for prediction\n",
        "y = df['status']\n",
        "\n",
        "\n"
      ],
      "metadata": {
        "id": "21mUe1YV6qy6"
      },
      "execution_count": 107,
      "outputs": []
    },
    {
      "cell_type": "code",
      "source": [
        "# Perform one-hot encoding for the 'game' column\n",
        "df_encoded = pd.get_dummies(df, columns=['game'])\n",
        "\n",
        "# Check the first few rows of the encoded DataFrame\n",
        "print(df_encoded.head())\n",
        "\n",
        "X = df_encoded.drop(['status'], axis=1)\n",
        "y = df_encoded['status']"
      ],
      "metadata": {
        "colab": {
          "base_uri": "https://localhost:8080/"
        },
        "id": "XjUSRHQ0-Cho",
        "outputId": "8d53be26-47ae-449b-86ab-b8b9bb58df90"
      },
      "execution_count": 112,
      "outputs": [
        {
          "output_type": "stream",
          "name": "stdout",
          "text": [
            "     id         period  amount  status  hour  minute  second  game_wingo  \\\n",
            "0  1520  2022070110000       6       1    17       3      43           0   \n",
            "1  1521  2022070110001       5       1    17       3      43           0   \n",
            "2  1522  2022070110000       6       1    17       3      43           0   \n",
            "3  1523  2022070110001       4       1    17       3      43           0   \n",
            "4  1524  2022070110000       6       1    17       3      43           0   \n",
            "\n",
            "   game_wingo10  game_wingo3  game_wingo5  \n",
            "0             1            0            0  \n",
            "1             1            0            0  \n",
            "2             0            0            1  \n",
            "3             0            0            1  \n",
            "4             0            1            0  \n"
          ]
        }
      ]
    },
    {
      "cell_type": "code",
      "source": [
        "# Split the dataset into training and testing sets\n",
        "X_train, X_test, y_train, y_test = train_test_split(X, y, test_size=0.2, random_state=42)"
      ],
      "metadata": {
        "id": "-HB01OHi7PUE"
      },
      "execution_count": 113,
      "outputs": []
    },
    {
      "cell_type": "code",
      "source": [
        "# Check for non-numeric columns\n",
        "non_numeric_columns = X_train.select_dtypes(exclude=['number']).columns\n",
        "print(\"Non-numeric columns:\", non_numeric_columns)"
      ],
      "metadata": {
        "colab": {
          "base_uri": "https://localhost:8080/"
        },
        "id": "66Yc7WTM8ktu",
        "outputId": "2fe7b916-5086-474c-b84e-8ea73b74ad04"
      },
      "execution_count": 114,
      "outputs": [
        {
          "output_type": "stream",
          "name": "stdout",
          "text": [
            "Non-numeric columns: Index([], dtype='object')\n"
          ]
        }
      ]
    },
    {
      "cell_type": "markdown",
      "source": [
        "# **Random Forest**"
      ],
      "metadata": {
        "id": "jH3k-UQIvQeu"
      }
    },
    {
      "cell_type": "code",
      "source": [
        "# Initialize the Random Forest classifier\n",
        "rf_model = RandomForestClassifier(n_estimators=100, random_state=42)\n",
        "\n",
        "# Train the model\n",
        "rf_model.fit(X_train, y_train)"
      ],
      "metadata": {
        "colab": {
          "base_uri": "https://localhost:8080/",
          "height": 74
        },
        "id": "JjHaQPzBvMlA",
        "outputId": "d951d975-489e-4442-a4a9-efe3c3f067a7"
      },
      "execution_count": 115,
      "outputs": [
        {
          "output_type": "execute_result",
          "data": {
            "text/plain": [
              "RandomForestClassifier(random_state=42)"
            ],
            "text/html": [
              "<style>#sk-container-id-9 {color: black;background-color: white;}#sk-container-id-9 pre{padding: 0;}#sk-container-id-9 div.sk-toggleable {background-color: white;}#sk-container-id-9 label.sk-toggleable__label {cursor: pointer;display: block;width: 100%;margin-bottom: 0;padding: 0.3em;box-sizing: border-box;text-align: center;}#sk-container-id-9 label.sk-toggleable__label-arrow:before {content: \"▸\";float: left;margin-right: 0.25em;color: #696969;}#sk-container-id-9 label.sk-toggleable__label-arrow:hover:before {color: black;}#sk-container-id-9 div.sk-estimator:hover label.sk-toggleable__label-arrow:before {color: black;}#sk-container-id-9 div.sk-toggleable__content {max-height: 0;max-width: 0;overflow: hidden;text-align: left;background-color: #f0f8ff;}#sk-container-id-9 div.sk-toggleable__content pre {margin: 0.2em;color: black;border-radius: 0.25em;background-color: #f0f8ff;}#sk-container-id-9 input.sk-toggleable__control:checked~div.sk-toggleable__content {max-height: 200px;max-width: 100%;overflow: auto;}#sk-container-id-9 input.sk-toggleable__control:checked~label.sk-toggleable__label-arrow:before {content: \"▾\";}#sk-container-id-9 div.sk-estimator input.sk-toggleable__control:checked~label.sk-toggleable__label {background-color: #d4ebff;}#sk-container-id-9 div.sk-label input.sk-toggleable__control:checked~label.sk-toggleable__label {background-color: #d4ebff;}#sk-container-id-9 input.sk-hidden--visually {border: 0;clip: rect(1px 1px 1px 1px);clip: rect(1px, 1px, 1px, 1px);height: 1px;margin: -1px;overflow: hidden;padding: 0;position: absolute;width: 1px;}#sk-container-id-9 div.sk-estimator {font-family: monospace;background-color: #f0f8ff;border: 1px dotted black;border-radius: 0.25em;box-sizing: border-box;margin-bottom: 0.5em;}#sk-container-id-9 div.sk-estimator:hover {background-color: #d4ebff;}#sk-container-id-9 div.sk-parallel-item::after {content: \"\";width: 100%;border-bottom: 1px solid gray;flex-grow: 1;}#sk-container-id-9 div.sk-label:hover label.sk-toggleable__label {background-color: #d4ebff;}#sk-container-id-9 div.sk-serial::before {content: \"\";position: absolute;border-left: 1px solid gray;box-sizing: border-box;top: 0;bottom: 0;left: 50%;z-index: 0;}#sk-container-id-9 div.sk-serial {display: flex;flex-direction: column;align-items: center;background-color: white;padding-right: 0.2em;padding-left: 0.2em;position: relative;}#sk-container-id-9 div.sk-item {position: relative;z-index: 1;}#sk-container-id-9 div.sk-parallel {display: flex;align-items: stretch;justify-content: center;background-color: white;position: relative;}#sk-container-id-9 div.sk-item::before, #sk-container-id-9 div.sk-parallel-item::before {content: \"\";position: absolute;border-left: 1px solid gray;box-sizing: border-box;top: 0;bottom: 0;left: 50%;z-index: -1;}#sk-container-id-9 div.sk-parallel-item {display: flex;flex-direction: column;z-index: 1;position: relative;background-color: white;}#sk-container-id-9 div.sk-parallel-item:first-child::after {align-self: flex-end;width: 50%;}#sk-container-id-9 div.sk-parallel-item:last-child::after {align-self: flex-start;width: 50%;}#sk-container-id-9 div.sk-parallel-item:only-child::after {width: 0;}#sk-container-id-9 div.sk-dashed-wrapped {border: 1px dashed gray;margin: 0 0.4em 0.5em 0.4em;box-sizing: border-box;padding-bottom: 0.4em;background-color: white;}#sk-container-id-9 div.sk-label label {font-family: monospace;font-weight: bold;display: inline-block;line-height: 1.2em;}#sk-container-id-9 div.sk-label-container {text-align: center;}#sk-container-id-9 div.sk-container {/* jupyter's `normalize.less` sets `[hidden] { display: none; }` but bootstrap.min.css set `[hidden] { display: none !important; }` so we also need the `!important` here to be able to override the default hidden behavior on the sphinx rendered scikit-learn.org. See: https://github.com/scikit-learn/scikit-learn/issues/21755 */display: inline-block !important;position: relative;}#sk-container-id-9 div.sk-text-repr-fallback {display: none;}</style><div id=\"sk-container-id-9\" class=\"sk-top-container\"><div class=\"sk-text-repr-fallback\"><pre>RandomForestClassifier(random_state=42)</pre><b>In a Jupyter environment, please rerun this cell to show the HTML representation or trust the notebook. <br />On GitHub, the HTML representation is unable to render, please try loading this page with nbviewer.org.</b></div><div class=\"sk-container\" hidden><div class=\"sk-item\"><div class=\"sk-estimator sk-toggleable\"><input class=\"sk-toggleable__control sk-hidden--visually\" id=\"sk-estimator-id-9\" type=\"checkbox\" checked><label for=\"sk-estimator-id-9\" class=\"sk-toggleable__label sk-toggleable__label-arrow\">RandomForestClassifier</label><div class=\"sk-toggleable__content\"><pre>RandomForestClassifier(random_state=42)</pre></div></div></div></div></div>"
            ]
          },
          "metadata": {},
          "execution_count": 115
        }
      ]
    },
    {
      "cell_type": "code",
      "source": [
        "# Check data types of all columns\n",
        "print(X_train.dtypes)"
      ],
      "metadata": {
        "colab": {
          "base_uri": "https://localhost:8080/"
        },
        "id": "oNEWydbx8uoV",
        "outputId": "132b9792-91cc-4014-f124-8ed5887bef1d"
      },
      "execution_count": 116,
      "outputs": [
        {
          "output_type": "stream",
          "name": "stdout",
          "text": [
            "id              int64\n",
            "period          int64\n",
            "amount          int64\n",
            "hour            int64\n",
            "minute          int64\n",
            "second          int64\n",
            "game_wingo      uint8\n",
            "game_wingo10    uint8\n",
            "game_wingo3     uint8\n",
            "game_wingo5     uint8\n",
            "dtype: object\n"
          ]
        }
      ]
    },
    {
      "cell_type": "code",
      "source": [
        "# Make predictions on the testing set\n",
        "predictions = rf_model.predict(X_test)"
      ],
      "metadata": {
        "id": "ojiycfc97an3"
      },
      "execution_count": 117,
      "outputs": []
    },
    {
      "cell_type": "code",
      "source": [
        "# Evaluate the model\n",
        "accuracy = accuracy_score(y_test, predictions)\n",
        "print(\"Accuracy:\", accuracy)"
      ],
      "metadata": {
        "colab": {
          "base_uri": "https://localhost:8080/"
        },
        "id": "syQarVeC7fhO",
        "outputId": "20817b59-ef04-4630-b16a-b7c4d1137ea6"
      },
      "execution_count": 119,
      "outputs": [
        {
          "output_type": "stream",
          "name": "stdout",
          "text": [
            "Accuracy: 1.0\n"
          ]
        }
      ]
    },
    {
      "cell_type": "code",
      "source": [
        "# Make predictions on the training set\n",
        "train_predictions = rf_model.predict(X_train)\n",
        "\n",
        "# Make predictions on the testing set\n",
        "test_predictions = rf_model.predict(X_test)\n",
        "# Evaluate the model's performance on the training and testing sets\n",
        "train_accuracy = accuracy_score(y_train, train_predictions)\n",
        "test_accuracy = accuracy_score(y_test, test_predictions)\n",
        "\n",
        "print(\"Training Accuracy:\", train_accuracy)\n",
        "print(\"Testing Accuracy:\", test_accuracy)"
      ],
      "metadata": {
        "colab": {
          "base_uri": "https://localhost:8080/"
        },
        "id": "dDxfYY8e_gUo",
        "outputId": "239834b7-fcac-4424-b9c3-29d96d46efbe"
      },
      "execution_count": 121,
      "outputs": [
        {
          "output_type": "stream",
          "name": "stdout",
          "text": [
            "Training Accuracy: 1.0\n",
            "Testing Accuracy: 1.0\n"
          ]
        }
      ]
    },
    {
      "cell_type": "code",
      "source": [
        "from sklearn.model_selection import cross_val_score\n",
        "\n",
        "# Perform 5-fold cross-validation\n",
        "scores = cross_val_score(rf_model, X_train, y_train, cv=5)\n",
        "print(\"Cross-Validation Scores:\", scores)\n",
        "print(\"Average Cross-Validation Score:\", scores.mean())"
      ],
      "metadata": {
        "colab": {
          "base_uri": "https://localhost:8080/"
        },
        "id": "aJVT8Cn4_4Lr",
        "outputId": "97a9c9cc-ab67-4c94-a88e-17a89480116b"
      },
      "execution_count": 122,
      "outputs": [
        {
          "output_type": "stream",
          "name": "stderr",
          "text": [
            "/usr/local/lib/python3.10/dist-packages/sklearn/model_selection/_split.py:700: UserWarning: The least populated class in y has only 3 members, which is less than n_splits=5.\n",
            "  warnings.warn(\n"
          ]
        },
        {
          "output_type": "stream",
          "name": "stdout",
          "text": [
            "Cross-Validation Scores: [0.99954002 0.99954002 0.99954002 1.         1.        ]\n",
            "Average Cross-Validation Score: 0.9997240110395584\n"
          ]
        }
      ]
    },
    {
      "cell_type": "code",
      "source": [
        "from sklearn.model_selection import StratifiedKFold\n",
        "\n",
        "# Perform 5-fold stratified cross-validation\n",
        "skf = StratifiedKFold(n_splits=5, shuffle=True, random_state=42)\n",
        "scores = cross_val_score(rf_model, X_train, y_train, cv=skf)\n",
        "print(\"Stratified Cross-Validation Scores:\", scores)\n",
        "print(\"Average Stratified Cross-Validation Score:\", scores.mean())"
      ],
      "metadata": {
        "colab": {
          "base_uri": "https://localhost:8080/"
        },
        "id": "D234uE4WAJPb",
        "outputId": "e3fe89cb-72e3-4dca-c5d1-51d24b3b66c6"
      },
      "execution_count": 123,
      "outputs": [
        {
          "output_type": "stream",
          "name": "stderr",
          "text": [
            "/usr/local/lib/python3.10/dist-packages/sklearn/model_selection/_split.py:700: UserWarning: The least populated class in y has only 3 members, which is less than n_splits=5.\n",
            "  warnings.warn(\n"
          ]
        },
        {
          "output_type": "stream",
          "name": "stdout",
          "text": [
            "Stratified Cross-Validation Scores: [0.99954002 0.99954002 0.99954002 1.         1.        ]\n",
            "Average Stratified Cross-Validation Score: 0.9997240110395584\n"
          ]
        }
      ]
    }
  ]
}